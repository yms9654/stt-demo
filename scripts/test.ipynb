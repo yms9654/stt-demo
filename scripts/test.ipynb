{
 "cells": [
  {
   "cell_type": "markdown",
   "id": "118ac094",
   "metadata": {},
   "source": [
    "## Speech Recognition\n",
    "\n",
    "1) 녹음 버튼을 눌러 녹음을 한후 'Click me' 버튼을 누르면 음성인식을 테스트."
   ]
  },
  {
   "cell_type": "code",
   "execution_count": 1,
   "id": "964fde43",
   "metadata": {},
   "outputs": [],
   "source": [
    "from ipywebrtc import AudioRecorder, CameraStream\n",
    "import torchaudio\n",
    "from IPython.display import Audio\n",
    "from pororo import Pororo\n",
    "import IPython\n",
    "import ipywidgets as widgets\n",
    "\n",
    "asr = Pororo(task='asr', lang='ko')\n",
    "tts = Pororo(task='tts', lang='multi')\n",
    "\n",
    "camera = CameraStream(constraints={'audio': True, 'video': False})\n",
    "recorder = AudioRecorder(stream=camera)"
   ]
  },
  {
   "cell_type": "code",
   "execution_count": 2,
   "id": "f3265467",
   "metadata": {},
   "outputs": [
    {
     "data": {
      "application/vnd.jupyter.widget-view+json": {
       "model_id": "3afc96f9208a4de6b0ada0089cd06055",
       "version_major": 2,
       "version_minor": 0
      },
      "text/plain": [
       "AudioRecorder(audio=Audio(value=b'', format='webm'), stream=CameraStream(constraints={'audio': True, 'video': …"
      ]
     },
     "metadata": {},
     "output_type": "display_data"
    },
    {
     "data": {
      "application/vnd.jupyter.widget-view+json": {
       "model_id": "9a47f3affbbe4856974582f0162761cf",
       "version_major": 2,
       "version_minor": 0
      },
      "text/plain": [
       "Button(description='Click me', style=ButtonStyle())"
      ]
     },
     "metadata": {},
     "output_type": "display_data"
    },
    {
     "data": {
      "application/vnd.jupyter.widget-view+json": {
       "model_id": "91829e1beb26413690f3646449b585cc",
       "version_major": 2,
       "version_minor": 0
      },
      "text/plain": [
       "Output()"
      ]
     },
     "metadata": {},
     "output_type": "display_data"
    }
   ],
   "source": [
    "button = widgets.Button(description='Click me')\n",
    "output = widgets.Output(layour={'border': '1px solid black'})\n",
    "\n",
    "def on_click_callback(clicked_button: widgets.Button) -> None:\n",
    "    with output:\n",
    "        ret = run_asr()\n",
    "        print(ret['results'][0]['speech'])\n",
    "        \n",
    "button.on_click(on_click_callback)\n",
    "display(recorder, button, output)"
   ]
  },
  {
   "cell_type": "markdown",
   "id": "fbcd206f",
   "metadata": {},
   "source": [
    "2) Upload 버튼을 눌러 wav 파일을 업로드 해서 테스트"
   ]
  },
  {
   "cell_type": "code",
   "execution_count": 3,
   "id": "3ac4a1ba",
   "metadata": {},
   "outputs": [],
   "source": [
    "def run_asr():\n",
    "    with open('recording.webm', 'wb') as f:\n",
    "        f.write(recorder.audio.value)\n",
    "    !ffmpeg -i recording.webm -ac 1 -f wav file.wav -y -hide_banner -loglevel panic\n",
    "\n",
    "    return asr('file.wav')"
   ]
  },
  {
   "cell_type": "code",
   "execution_count": 4,
   "id": "6df34abc",
   "metadata": {},
   "outputs": [
    {
     "data": {
      "application/vnd.jupyter.widget-view+json": {
       "model_id": "0da640c7b4554ff5b3871814d1c91867",
       "version_major": 2,
       "version_minor": 0
      },
      "text/plain": [
       "FileUpload(value={}, description='Upload')"
      ]
     },
     "metadata": {},
     "output_type": "display_data"
    },
    {
     "data": {
      "application/vnd.jupyter.widget-view+json": {
       "model_id": "422d6a230ca8469facfb0b47557274a7",
       "version_major": 2,
       "version_minor": 0
      },
      "text/plain": [
       "Output()"
      ]
     },
     "metadata": {},
     "output_type": "display_data"
    }
   ],
   "source": [
    "upload = widgets.FileUpload(\n",
    "    accept='',  # Accepted file extension e.g. '.txt', '.pdf', 'image/*', 'image/*,.pdf'\n",
    "    multiple=False  # True to accept multiple files upload else False\n",
    ")\n",
    "output2 = widgets.Output(layour={'border': '1px solid black'})\n",
    "\n",
    "def on_upload_change(change):\n",
    "    uploaded_filename = next(iter(change['owner'].value))\n",
    "    content = change['owner'].value[uploaded_filename]['content']\n",
    "    with open('temp.wav', 'wb') as f: f.write(content)\n",
    "    with output2: display(Audio('temp.wav', autoplay=True))\n",
    "    ret = asr('temp.wav')\n",
    "    with output2:\n",
    "        print(ret['results'][0]['speech'])\n",
    "    \n",
    "upload.observe(on_upload_change, names='_counter')\n",
    "display(upload, output2)"
   ]
  }
 ],
 "metadata": {
  "kernelspec": {
   "display_name": "Python 3 (ipykernel)",
   "language": "python",
   "name": "python3"
  },
  "language_info": {
   "codemirror_mode": {
    "name": "ipython",
    "version": 3
   },
   "file_extension": ".py",
   "mimetype": "text/x-python",
   "name": "python",
   "nbconvert_exporter": "python",
   "pygments_lexer": "ipython3",
   "version": "3.7.7"
  }
 },
 "nbformat": 4,
 "nbformat_minor": 5
}

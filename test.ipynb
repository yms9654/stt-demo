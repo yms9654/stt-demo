{
 "cells": [
  {
   "cell_type": "code",
   "execution_count": 2,
   "id": "964fde43",
   "metadata": {},
   "outputs": [],
   "source": [
    "from ipywebrtc import AudioRecorder, CameraStream\n",
    "import torchaudio\n",
    "from IPython.display import Audio\n",
    "from pororo import Pororo\n",
    "import IPython\n",
    "import ipywidgets as widgets\n",
    "\n",
    "asr = Pororo(task='asr', lang='ko')\n",
    "tts = Pororo(task='tts', lang='multi')"
   ]
  },
  {
   "cell_type": "markdown",
   "id": "118ac094",
   "metadata": {},
   "source": [
    "## Speech Recognition\n",
    "\n",
    "1. 녹음을 하거나 음성 파일을 업로드 한다.\n",
    "2. 'Click me' 버튼을 누르면 음성인식을 테스트."
   ]
  },
  {
   "cell_type": "code",
   "execution_count": 36,
   "id": "c8714f7a",
   "metadata": {},
   "outputs": [
    {
     "data": {
      "application/vnd.jupyter.widget-view+json": {
       "model_id": "61cfa8de6c7442b29cfb4b8bd3093ae1",
       "version_major": 2,
       "version_minor": 0
      },
      "text/plain": [
       "AudioRecorder(audio=Audio(value=b'', format='webm'), stream=CameraStream(constraints={'audio': True, 'video': …"
      ]
     },
     "metadata": {},
     "output_type": "display_data"
    },
    {
     "data": {
      "application/vnd.jupyter.widget-view+json": {
       "model_id": "28d045d6a7e24e90bbbd8b0de7896999",
       "version_major": 2,
       "version_minor": 0
      },
      "text/plain": [
       "FileUpload(value={}, description='Upload')"
      ]
     },
     "metadata": {},
     "output_type": "display_data"
    }
   ],
   "source": [
    "camera = CameraStream(constraints={'audio': True, 'video': False})\n",
    "recorder = AudioRecorder(stream=camera)\n",
    "\n",
    "upload = widgets.FileUpload(\n",
    "    accept='',  # Accepted file extension e.g. '.txt', '.pdf', 'image/*', 'image/*,.pdf'\n",
    "    multiple=False  # True to accept multiple files upload else False\n",
    ")\n",
    "\n",
    "\n",
    "\n",
    "def on_upload_change(change):\n",
    "    uploaded_filename = next(iter(change['owner'].value))\n",
    "    content = change['owner'].value[uploaded_filename]['content']\n",
    "    with open('file.wav', 'wb') as f: f.write(content)\n",
    "    with output: display(Audio('file.wav', autoplay=True))\n",
    "    \n",
    "upload.observe(on_upload_change, names='_counter')\n",
    "display(recorder, upload)"
   ]
  },
  {
   "cell_type": "code",
   "execution_count": 20,
   "id": "3ac4a1ba",
   "metadata": {},
   "outputs": [],
   "source": [
    "def run_asr():\n",
    "    with open('recording.webm', 'wb') as f:\n",
    "        f.write(recorder.audio.value)\n",
    "    !ffmpeg -i recording.webm -ac 1 -f wav file.wav -y -hide_banner -loglevel panic\n",
    "\n",
    "    return asr('file.wav')"
   ]
  },
  {
   "cell_type": "code",
   "execution_count": 21,
   "id": "f3265467",
   "metadata": {},
   "outputs": [
    {
     "data": {
      "application/vnd.jupyter.widget-view+json": {
       "model_id": "6668ce736aa34f1593c676177934f95c",
       "version_major": 2,
       "version_minor": 0
      },
      "text/plain": [
       "Button(description='Click me', style=ButtonStyle())"
      ]
     },
     "metadata": {},
     "output_type": "display_data"
    },
    {
     "data": {
      "application/vnd.jupyter.widget-view+json": {
       "model_id": "d0824a4e5d074fd38b9a805324788778",
       "version_major": 2,
       "version_minor": 0
      },
      "text/plain": [
       "Output()"
      ]
     },
     "metadata": {},
     "output_type": "display_data"
    }
   ],
   "source": [
    "button = widgets.Button(description='Click me')\n",
    "output = widgets.Output(layour={'border': '1px solid black'})\n",
    "\n",
    "def on_click_callback(clicked_button: widgets.Button) -> None:\n",
    "    with output:\n",
    "        ret = run_asr()\n",
    "        print(ret['results'][0]['speech'])\n",
    "        \n",
    "button.on_click(on_click_callback)\n",
    "display(button, output)"
   ]
  },
  {
   "cell_type": "code",
   "execution_count": null,
   "id": "a3646da6",
   "metadata": {},
   "outputs": [],
   "source": []
  }
 ],
 "metadata": {
  "kernelspec": {
   "display_name": "Python 3 (ipykernel)",
   "language": "python",
   "name": "python3"
  },
  "language_info": {
   "codemirror_mode": {
    "name": "ipython",
    "version": 3
   },
   "file_extension": ".py",
   "mimetype": "text/x-python",
   "name": "python",
   "nbconvert_exporter": "python",
   "pygments_lexer": "ipython3",
   "version": "3.7.7"
  }
 },
 "nbformat": 4,
 "nbformat_minor": 5
}
